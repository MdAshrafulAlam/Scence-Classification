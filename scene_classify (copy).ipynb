{
 "cells": [
  {
   "cell_type": "markdown",
   "metadata": {},
   "source": [
    "# Guide for this Tutorial "
   ]
  },
  {
   "cell_type": "markdown",
   "metadata": {},
   "source": [
    "#### these are the main steps for this tutorial\n"
   ]
  },
  {
   "cell_type": "markdown",
   "metadata": {},
   "source": [
    "# Dataset Preparation"
   ]
  },
  {
   "cell_type": "code",
   "execution_count": null,
   "metadata": {},
   "outputs": [],
   "source": [
    "import os, zipfile\n",
    "\n",
    "train_path = '/media/bitlord/document/ai_challenger/scene_cal/data/ai_challenger_scene_train_20170904.zip'\n",
    "validation_path = '/media/bitlord/document/ai_challenger/scene_cal/data/ai_challenger_scene_validation_20170908.zip'\n",
    "test_a_path = '/media/bitlord/document/ai_challenger/scene_cal/data/ai_challenger_scene_test_a_20170922.zip'\n",
    "extract_path = '/media/bitlord/document/ai_challenger/scene_cal/data'\n",
    "\n",
    "def unzip(zipfile_path, extract_path, zipfile_name):\n",
    "    zipfile = zipfile.ZipFile(zipfile_path, 'r')\n",
    "    print('Extracting {} ...'.format(zipfile_name))\n",
    "    zipfile.extractall()\n",
    "    zipfile.close()\n",
    "    print('{} has been extracted.'.format(zipfle_name))\n",
    "\n",
    "if os.path.exists(extract_path):\n",
    "    print('Found extraced dataset')\n",
    "else:\n",
    "    unzip(train_path, extract_path, 'training dataset')\n",
    "    unzip(validation_path, extract_path, 'validation dataset')\n",
    "    unzip(test_a_path, extract_path, 'test dataset')"
   ]
  },
  {
   "cell_type": "markdown",
   "metadata": {},
   "source": [
    "# Data Presentation"
   ]
  },
  {
   "cell_type": "code",
   "execution_count": 1,
   "metadata": {},
   "outputs": [
    {
     "name": "stdout",
     "output_type": "stream",
     "text": [
      "[{u'image_id': u'79f993ae0858ae238b22968c5934d1ddba585ae4.jpg', u'label_id': u'66', u'image_url': u'https://n1-q.mafengwo.net/s1/M00/6B/72/wKgBm04Wc5WzFXU0AAHf09bdpiY84.jpeg?imageView2%2F2%2Fw%2F600%2Fq%2F90'}, {u'image_id': u'e963208fe9e90df0c385f7367bcdb6d0d5d0b165.jpg', u'label_id': u'61', u'image_url': u'http://news.sogou.com/'}, {u'image_id': u'02df5ecbf7c749ccc9d833f129bbd5d9837940ce.jpg', u'label_id': u'64', u'image_url': u'http://img2.fawan.com/2016/12/30/e967f93e7713c57cd2b00b832dd6091a_500x-_90.jpg'}, {u'image_id': u'5620eb385b7567fb087813cf5233b5ceecdeeca3.jpg', u'label_id': u'31', u'image_url': u'https://b1-q.mafengwo.net/s1/M00/F2/C9/wKgBm04Wx3a-gk2FAAKbPKX7E9w91.jpeg?imageView2%2F2%2Fw%2F600%2Fq%2F90'}, {u'image_id': u'f8b4d42001a562fc63b9b39c02531661c0e236ca.jpg', u'label_id': u'19', u'image_url': u'http://news.sogou.com/'}, {u'image_id': u'57e7eb438670a4519041dab1482f2594a92f8a09.jpg', u'label_id': u'11', u'image_url': u'http://www.user2.jqw.com/2014/01/06/1347666/product/b201401072000291460.JPG'}, {u'image_id': u'addb2ef7e4aa1a160093e32ceec19bf900c05d2e.jpg', u'label_id': u'22', u'image_url': u'http://s16.sinaimg.cn/middle/67bde22dx929ff224e80f&690'}, {u'image_id': u'84a5b79a7f8fe3ddb43355eaf010a3a432e457b4.jpg', u'label_id': u'11', u'image_url': u'http://imgsrc.baidu.com/imgad/pic/item/a686c9177f3e6709f65104d631c79f3df8dc5541.jpg'}, {u'image_id': u'48f690ba20db3e6a0a0f7ab5b59480f7558b18fa.jpg', u'label_id': u'47', u'image_url': u'http://news.sogou.com/'}, {u'image_id': u'3c53b82532f132da2727fad84ade044f364a1dba.jpg', u'label_id': u'3', u'image_url': u'http://news.sogou.com/'}]\n",
      "\n",
      "\n",
      "53879\n"
     ]
    }
   ],
   "source": [
    "import json\n",
    "import glob\n",
    "from scipy.misc import imread, imresize, imsave\n",
    "import numpy as np\n",
    "\n",
    "train_features_path = r'/media/bitlord/document/ai_challenger/scene_cal/data/ai_challenger_scene_train_20170904/scene_train_images_20170904'\n",
    "train_labels_path = r'/media/bitlord/document/ai_challenger/scene_cal/data/ai_challenger_scene_train_20170904/scene_train_annotations_20170904.json'\n",
    "validation_features_path =r'/media/bitlord/document/ai_challenger/scene_cal/data/ai_challenger_scene_validation_20170908/scene_validation_images_20170908'\n",
    "validation_labels_path =r'/media/bitlord/document/ai_challenger/scene_cal/data/ai_challenger_scene_validation_20170908/scene_validation_annotations_20170908.json'\n",
    "test_a_features_path = r'/media/bitlord/document/ai_challenger/scene_cal/data/ai_challenger_scene_test_a_20170922/scene_test_a_images_20170922'\n",
    "\n",
    "# Show train label list\n",
    "with open(train_labels_path, 'r') as f:\n",
    "    train_label_list = json.load(f)\n",
    "    print(train_label_list[:10])\n",
    "    train_dict = {}\n",
    "    for image in train_label_list:\n",
    "        train_dict[image['image_id']] = int(image['label_id'])\n",
    "    print('\\n')\n",
    "    print(len(train_dict))     \n",
    "\n",
    "# Show train features list resulting out of memory..."
   ]
  },
  {
   "cell_type": "markdown",
   "metadata": {},
   "source": [
    "# Initialization features(input) and labels(output) "
   ]
  },
  {
   "cell_type": "code",
   "execution_count": 2,
   "metadata": {},
   "outputs": [],
   "source": [
    "import json\n",
    "from scipy.misc import imread, imresize\n",
    "import numpy as np\n",
    "import os\n",
    "\n",
    "class initialize(object):\n",
    "    # Get image-label list for train and validation\n",
    "    def __init__(self, feature_path, label_path):\n",
    "        self.image_label_dict = {}\n",
    "        with open(label_path, 'r') as f:\n",
    "            label_list = json.load(f)\n",
    "        for image in label_list:\n",
    "            self.image_label_dict[image['image_id']] = int(image['label_id'])\n",
    "        self.start = 0\n",
    "        self.end = 0\n",
    "        self.length = len(self.image_label_dict) # number of feature images\n",
    "        self.image_name = list(self.image_label_dict.keys())\n",
    "        self.feature_path = feature_path\n",
    "    \n",
    "    # Read image in feature path, resize and normalize to [-1, 1]\n",
    "    def get_image(self, image_path, image_size):\n",
    "        image = imread(image_path)\n",
    "        image = imresize(image, [image_size, image_size])       \n",
    "        image = np.array(image).astype(np.float32)\n",
    "        image = 2 * (image - np.min(image)) / np.ptp(image) - 1\n",
    "        return image\n",
    "    \n",
    "    # Get feature and label batch\n",
    "    def get_batch(self, batch_size, image_size):\n",
    "        self.start = self.end\n",
    "        if self.start >= self.length:\n",
    "            self.start = 0\n",
    "        batch_feature = []\n",
    "        batch_label = []\n",
    "        index = self.start\n",
    "        while len(batch_feature) < batch_size:\n",
    "            if index >= self.length:\n",
    "                index = 0\n",
    "            i_image_path = os.path.join(self.feature_path, self.image_name[index])\n",
    "            i_image = self.get_image(i_image_path, image_size)\n",
    "            i_label = self.image_label_dict[self.image_name[index]]\n",
    "            batch_feature.append(i_image)\n",
    "            batch_label.append(i_label)\n",
    "            index += 1\n",
    "        self.end = index\n",
    "        return batch_feature, batch_label"
   ]
  },
  {
   "cell_type": "markdown",
   "metadata": {},
   "source": [
    "# Conv Network (CNN) return training accuracy and loss"
   ]
  },
  {
   "cell_type": "code",
   "execution_count": 3,
   "metadata": {},
   "outputs": [],
   "source": [
    "import tensorflow as tf\n",
    "\n",
    "def conv_layer(input_layer, filters, strides, is_training):\n",
    "    layer = tf.layers.conv2d(\n",
    "        inputs=input_layer, \n",
    "        filters=filters, \n",
    "        kernel_size=3,\n",
    "        strides=strides, \n",
    "        padding='same', \n",
    "        activation=None,\n",
    "        kernel_initializer=tf.truncated_normal_initializer()\n",
    "    )\n",
    "    \n",
    "    layer = tf.layers.batch_normalization(\n",
    "        inputs=layer, \n",
    "        axis=-1,\n",
    "        momentum=0.9,\n",
    "        epsilon=0.001,\n",
    "        center=True,\n",
    "        scale=True,\n",
    "        training=is_training\n",
    "    )\n",
    "    \n",
    "    layer = tf.nn.relu(layer)\n",
    "    return layer\n",
    "\n",
    "def fully_connected(input_layer, num_units, is_training):\n",
    "    layer = tf.layers.dense(input_layer, num_units, use_bias=False, activation=None)\n",
    "    layer = tf.layers.batch_normalization(layer, training=is_training)\n",
    "    layer = tf.nn.relu(layer)\n",
    "    return layer\n",
    "\n",
    "def conv_network(feature, label, num_class, image_size, keep_prob, is_training):\n",
    "    input_layer = tf.reshape(feature, [-1, image_size, image_size, 3])\n",
    "    \n",
    "    # 16 conv layers with 64, 128, 256, 512 filters.\n",
    "    layer = conv_layer(input_layer, 64, 1, is_training)\n",
    "    layer = conv_layer(layer, 64, 1, is_training)\n",
    "    layer = tf.layers.max_pooling2d(layer, pool_size=[2, 2], strides=2, padding='same')\n",
    "    \n",
    "    layer = conv_layer(layer, 128, 1, is_training)\n",
    "    layer = conv_layer(layer, 128, 1, is_training)\n",
    "    layer = tf.layers.max_pooling2d(layer, pool_size=[2, 2], strides=2, padding='same')\n",
    "    \n",
    "    layer = conv_layer(layer, 256, 2, is_training)\n",
    "    layer = conv_layer(layer, 256, 2, is_training)\n",
    "    layer = conv_layer(layer, 256, 2, is_training)\n",
    "    layer = conv_layer(layer, 256, 2, is_training)\n",
    "    layer = tf.layers.max_pooling2d(layer, pool_size=[2, 2], strides=2, padding='same')\n",
    "    \n",
    "    layer = conv_layer(layer, 512, 2, is_training)\n",
    "    layer = conv_layer(layer, 512, 2, is_training)\n",
    "    layer = conv_layer(layer, 512, 2, is_training)\n",
    "    layer = conv_layer(layer, 512, 2, is_training)\n",
    "    layer = tf.layers.max_pooling2d(layer, pool_size=[2, 2], strides=2, padding='same')\n",
    "    \n",
    "    layer = conv_layer(layer, 512, 2, is_training)\n",
    "    layer = conv_layer(layer, 512, 2, is_training)\n",
    "    layer = conv_layer(layer, 512, 2, is_training)\n",
    "    layer = conv_layer(layer, 512, 2, is_training)\n",
    "    layer = tf.layers.max_pooling2d(layer, pool_size=[2, 2], strides=2, padding='same')\n",
    "    \n",
    "    shape = layer.get_shape().as_list()\n",
    "    layer = tf.reshape(layer, shape=[-1, shape[1]*shape[2]*shape[3]])\n",
    "    layer = fully_connected(layer, 800, is_training)\n",
    "    layer = tf.nn.dropout(layer, keep_prob)\n",
    "    logits = tf.layers.dense(layer, 80)\n",
    "    output = tf.sigmoid(logits)\n",
    "    \n",
    "    # Loss and optimizer\n",
    "    loss = tf.reduce_mean(tf.nn.softmax_cross_entropy_with_logits(logits=logits, labels=label))\n",
    "    \n",
    "    return logits, loss"
   ]
  },
  {
   "cell_type": "markdown",
   "metadata": {},
   "source": [
    "# Training network"
   ]
  },
  {
   "cell_type": "code",
   "execution_count": null,
   "metadata": {},
   "outputs": [],
   "source": [
    "def train(train_feature_path, train_label_path, checkpoint_path, num_class, batch_size, image_size, max_step):\n",
    "    \n",
    "    train = initialize(train_feature_path, train_label_path)\n",
    "        \n",
    "    feature = tf.placeholder(tf.float32, shape=[None, image_size, image_size, 3], name='feature')\n",
    "    label = tf.placeholder(tf.float32, shape=[None], name='label')\n",
    "    keep_prob = tf.placeholder(tf.float32, name='keep_prob')\n",
    "    one_hot_label = tf.one_hot(indices=tf.cast(label, tf.int32), depth=80)\n",
    "    is_training = tf.placeholder(tf.bool, name='is_training')\n",
    "    \n",
    "    logits, loss = conv_network(feature, one_hot_label, num_class, image_size, keep_prob, is_training)\n",
    "    \n",
    "    with tf.control_dependencies(tf.get_collection(tf.GraphKeys.UPDATE_OPS)):\n",
    "        train_opt = tf.train.AdamOptimizer(learning_rate).minimize(loss)\n",
    "        \n",
    "    correct_prediction = tf.equal(tf.argmax(logits, 1), tf.argmax(one_hot_label, 1))\n",
    "    accuracy = tf.reduce_mean(tf.cast(correct_prediction, tf.float32))\n",
    "       \n",
    "    with tf.Session() as sess:\n",
    "        saver = tf.train.Saver()\n",
    "        ckpt = tf.train.get_checkpoint_state(checkpoint_path)\n",
    "        \n",
    "        if ckpt and ckpt.model_checkpoint_path:\n",
    "            print('Restore the model from checkpoint {}.'.format(ckpt.model_checkpoint_path))\n",
    "            start_step = int(ckpt.model_checkpoint_path.split('/')[-1].split('-')[-1])\n",
    "        else:\n",
    "            sess.run(tf.global_variables_initializer())\n",
    "            start_step = 0\n",
    "            print('Start training from new start.')\n",
    "        \n",
    "        for steps in range(start_step, start_step + max_step):\n",
    "            train_feature_batch, train_label_batch = train.get_batch(batch_size, image_size)\n",
    "            #print(is_training, feature, label)\n",
    "            sess.run(train_opt, feed_dict={feature: train_feature_batch, label: train_label_batch, keep_prob: 0.5, is_training: True})\n",
    "                \n",
    "            if steps % 10 == 0:\n",
    "                train_accuracy = sess.run(accuracy, feed_dict={feature: train_feature_batch, label: train_label_batch, keep_prob: 0.5, is_training: False})\n",
    "                train_loss = sess.run(loss, feed_dict={feature: train_feature_batch, label: train_label_batch, keep_prob: 0.5, is_training: False})\n",
    "                print('Step {}'.format(steps),\n",
    "                      'Training Accuracy {:.3f}...'.format(train_accuracy),\n",
    "                      'Training Loss {:.3f}...'.format(train_loss),\n",
    "                     ) \n",
    "            if steps % 1000 == 0:\n",
    "                saver.save(sess, checkfile, global_step=steps)\n",
    "                print('Writing checkpoint at step {}'.format(steps))\n",
    "\n",
    "        print('Training completed.')\n",
    "\n",
    "# image pathes\n",
    "train_feature_path = r'/media/bitlord/document/ai_challenger/scene_cal/data/ai_challenger_scene_train_20170904/scene_train_images_20170904'\n",
    "train_label_path = r'/media/bitlord/document/ai_challenger/scene_cal/data/ai_challenger_scene_train_20170904/scene_train_annotations_20170904.json'\n",
    "checkpoint_path = './checkpoint/'\n",
    "checkfile = './checkpoint/model.ckpt'\n",
    "\n",
    "num_class = 80\n",
    "batch_size = 64\n",
    "image_size = 64\n",
    "max_step = 60000\n",
    "learning_rate =0.002\n",
    "\n",
    "train(train_feature_path, train_label_path, checkpoint_path, num_class, batch_size, image_size, max_step)"
   ]
  },
  {
   "cell_type": "code",
   "execution_count": 8,
   "metadata": {},
   "outputs": [],
   "source": [
    "def test(val_feature_path, val_label_path, checkpoint_dir, num_class, image_size):\n",
    "    test = initialize(val_feature_path, val_label_path)\n",
    "    test_images = os.listdir(val_feature_path)\n",
    "    \n",
    "    feature = tf.placeholder(tf.float32, shape=[None, image_size, image_size, 3], name='feature')\n",
    "    label = tf.placeholder(tf.float32, shape=[None], name='label')\n",
    "    one_hot_label = tf.one_hot(indices=tf.cast(label, tf.int32), depth=80)\n",
    "    keep_prob = tf.placeholder(tf.float32, name='keep_prob')\n",
    "    is_training = tf.placeholder(tf.bool, name='is_training')\n",
    "    \n",
    "    logits, loss = conv_network(feature, label, num_class, image_size, keep_prob, is_training )\n",
    "    values, indices = tf.nn.top_k(logits, 3)\n",
    "\n",
    "    with tf.Session() as sess:\n",
    "        saver = tf.train.Saver()\n",
    "        ckpt = tf.train.get_checkpoint_state(checkpoint_dir)\n",
    "        if ckpt and ckpt.model_checkpoint_path:\n",
    "            print(\"Restore the model from checkpoint %s\" % ckpt.model_checkpoint_path)\n",
    "            saver.restore(sess, ckpt.model_checkpoint_path)\n",
    "            start_step = int(ckpt.model_checkpoint_path.split('/')[-1].split('-')[-1])\n",
    "        else:\n",
    "            raise Exception('No checkpoint found')\n",
    "        \n",
    "        result = []\n",
    "        for test_image in test_images:\n",
    "            temp_dict = {}\n",
    "            x = test.get_image(os.path.join(val_feature_path, test_image), image_size)\n",
    "            predictions = np.squeeze(sess.run(indices, feed_dict={feature: np.expand_dims(x, axis=0), keep_prob: 1}), axis=0)\n",
    "            temp_dict['image_id'] = test_image\n",
    "            temp_dict['label_id'] = predictions.tolist()\n",
    "            result.append(temp_dict)\n",
    "            print('image %s is %d, %d, %d' % (test_image, predictions[0], predictions[1], predictions[2]))\n",
    "            \n",
    "        with open('submit.json', 'w') as f:\n",
    "            json.dump(result, f)\n",
    "            print('Write result json file, num is %d' % len(result))"
   ]
  },
  {
   "cell_type": "code",
   "execution_count": 9,
   "metadata": {},
   "outputs": [
    {
     "name": "stdout",
     "output_type": "stream",
     "text": [
      "Restore the model from checkpoint ./checkpoint/model.ckpt-46000\n",
      "INFO:tensorflow:Restoring parameters from ./checkpoint/model.ckpt-46000\n"
     ]
    },
    {
     "ename": "InvalidArgumentError",
     "evalue": "You must feed a value for placeholder tensor 'is_training' with dtype bool\n\t [[Node: is_training = Placeholder[dtype=DT_BOOL, shape=<unknown>, _device=\"/job:localhost/replica:0/task:0/cpu:0\"]()]]\n\nCaused by op u'is_training', defined at:\n  File \"/usr/lib/python2.7/runpy.py\", line 174, in _run_module_as_main\n    \"__main__\", fname, loader, pkg_name)\n  File \"/usr/lib/python2.7/runpy.py\", line 72, in _run_code\n    exec code in run_globals\n  File \"/usr/local/lib/python2.7/dist-packages/ipykernel_launcher.py\", line 16, in <module>\n    app.launch_new_instance()\n  File \"/usr/local/lib/python2.7/dist-packages/traitlets/config/application.py\", line 658, in launch_instance\n    app.start()\n  File \"/usr/local/lib/python2.7/dist-packages/ipykernel/kernelapp.py\", line 477, in start\n    ioloop.IOLoop.instance().start()\n  File \"/usr/local/lib/python2.7/dist-packages/zmq/eventloop/ioloop.py\", line 177, in start\n    super(ZMQIOLoop, self).start()\n  File \"/usr/local/lib/python2.7/dist-packages/tornado/ioloop.py\", line 888, in start\n    handler_func(fd_obj, events)\n  File \"/usr/local/lib/python2.7/dist-packages/tornado/stack_context.py\", line 277, in null_wrapper\n    return fn(*args, **kwargs)\n  File \"/usr/local/lib/python2.7/dist-packages/zmq/eventloop/zmqstream.py\", line 440, in _handle_events\n    self._handle_recv()\n  File \"/usr/local/lib/python2.7/dist-packages/zmq/eventloop/zmqstream.py\", line 472, in _handle_recv\n    self._run_callback(callback, msg)\n  File \"/usr/local/lib/python2.7/dist-packages/zmq/eventloop/zmqstream.py\", line 414, in _run_callback\n    callback(*args, **kwargs)\n  File \"/usr/local/lib/python2.7/dist-packages/tornado/stack_context.py\", line 277, in null_wrapper\n    return fn(*args, **kwargs)\n  File \"/usr/local/lib/python2.7/dist-packages/ipykernel/kernelbase.py\", line 283, in dispatcher\n    return self.dispatch_shell(stream, msg)\n  File \"/usr/local/lib/python2.7/dist-packages/ipykernel/kernelbase.py\", line 235, in dispatch_shell\n    handler(stream, idents, msg)\n  File \"/usr/local/lib/python2.7/dist-packages/ipykernel/kernelbase.py\", line 399, in execute_request\n    user_expressions, allow_stdin)\n  File \"/usr/local/lib/python2.7/dist-packages/ipykernel/ipkernel.py\", line 196, in do_execute\n    res = shell.run_cell(code, store_history=store_history, silent=silent)\n  File \"/usr/local/lib/python2.7/dist-packages/ipykernel/zmqshell.py\", line 533, in run_cell\n    return super(ZMQInteractiveShell, self).run_cell(*args, **kwargs)\n  File \"/usr/local/lib/python2.7/dist-packages/IPython/core/interactiveshell.py\", line 2718, in run_cell\n    interactivity=interactivity, compiler=compiler, result=result)\n  File \"/usr/local/lib/python2.7/dist-packages/IPython/core/interactiveshell.py\", line 2828, in run_ast_nodes\n    if self.run_code(code, result):\n  File \"/usr/local/lib/python2.7/dist-packages/IPython/core/interactiveshell.py\", line 2882, in run_code\n    exec(code_obj, self.user_global_ns, self.user_ns)\n  File \"<ipython-input-9-05ebeb6c16b6>\", line 7, in <module>\n    test(val_feature_path, val_label_path, checkpoint_dir, num_class, image_size)\n  File \"<ipython-input-8-284556a43eba>\", line 9, in test\n    is_training = tf.placeholder(tf.bool, name='is_training')\n  File \"/usr/local/lib/python2.7/dist-packages/tensorflow/python/ops/array_ops.py\", line 1548, in placeholder\n    return gen_array_ops._placeholder(dtype=dtype, shape=shape, name=name)\n  File \"/usr/local/lib/python2.7/dist-packages/tensorflow/python/ops/gen_array_ops.py\", line 2094, in _placeholder\n    name=name)\n  File \"/usr/local/lib/python2.7/dist-packages/tensorflow/python/framework/op_def_library.py\", line 767, in apply_op\n    op_def=op_def)\n  File \"/usr/local/lib/python2.7/dist-packages/tensorflow/python/framework/ops.py\", line 2630, in create_op\n    original_op=self._default_original_op, op_def=op_def)\n  File \"/usr/local/lib/python2.7/dist-packages/tensorflow/python/framework/ops.py\", line 1204, in __init__\n    self._traceback = self._graph._extract_stack()  # pylint: disable=protected-access\n\nInvalidArgumentError (see above for traceback): You must feed a value for placeholder tensor 'is_training' with dtype bool\n\t [[Node: is_training = Placeholder[dtype=DT_BOOL, shape=<unknown>, _device=\"/job:localhost/replica:0/task:0/cpu:0\"]()]]\n",
     "output_type": "error",
     "traceback": [
      "\u001b[0;31m---------------------------------------------------------------------------\u001b[0m",
      "\u001b[0;31mInvalidArgumentError\u001b[0m                      Traceback (most recent call last)",
      "\u001b[0;32m<ipython-input-9-05ebeb6c16b6>\u001b[0m in \u001b[0;36m<module>\u001b[0;34m()\u001b[0m\n\u001b[1;32m      5\u001b[0m \u001b[0mimage_size\u001b[0m \u001b[0;34m=\u001b[0m \u001b[0;36m64\u001b[0m\u001b[0;34m\u001b[0m\u001b[0m\n\u001b[1;32m      6\u001b[0m \u001b[0;34m\u001b[0m\u001b[0m\n\u001b[0;32m----> 7\u001b[0;31m \u001b[0mtest\u001b[0m\u001b[0;34m(\u001b[0m\u001b[0mval_feature_path\u001b[0m\u001b[0;34m,\u001b[0m \u001b[0mval_label_path\u001b[0m\u001b[0;34m,\u001b[0m \u001b[0mcheckpoint_dir\u001b[0m\u001b[0;34m,\u001b[0m \u001b[0mnum_class\u001b[0m\u001b[0;34m,\u001b[0m \u001b[0mimage_size\u001b[0m\u001b[0;34m)\u001b[0m\u001b[0;34m\u001b[0m\u001b[0m\n\u001b[0m",
      "\u001b[0;32m<ipython-input-8-284556a43eba>\u001b[0m in \u001b[0;36mtest\u001b[0;34m(val_feature_path, val_label_path, checkpoint_dir, num_class, image_size)\u001b[0m\n\u001b[1;32m     26\u001b[0m             \u001b[0mtemp_dict\u001b[0m \u001b[0;34m=\u001b[0m \u001b[0;34m{\u001b[0m\u001b[0;34m}\u001b[0m\u001b[0;34m\u001b[0m\u001b[0m\n\u001b[1;32m     27\u001b[0m             \u001b[0mx\u001b[0m \u001b[0;34m=\u001b[0m \u001b[0mtest\u001b[0m\u001b[0;34m.\u001b[0m\u001b[0mget_image\u001b[0m\u001b[0;34m(\u001b[0m\u001b[0mos\u001b[0m\u001b[0;34m.\u001b[0m\u001b[0mpath\u001b[0m\u001b[0;34m.\u001b[0m\u001b[0mjoin\u001b[0m\u001b[0;34m(\u001b[0m\u001b[0mval_feature_path\u001b[0m\u001b[0;34m,\u001b[0m \u001b[0mtest_image\u001b[0m\u001b[0;34m)\u001b[0m\u001b[0;34m,\u001b[0m \u001b[0mimage_size\u001b[0m\u001b[0;34m)\u001b[0m\u001b[0;34m\u001b[0m\u001b[0m\n\u001b[0;32m---> 28\u001b[0;31m             \u001b[0mpredictions\u001b[0m \u001b[0;34m=\u001b[0m \u001b[0mnp\u001b[0m\u001b[0;34m.\u001b[0m\u001b[0msqueeze\u001b[0m\u001b[0;34m(\u001b[0m\u001b[0msess\u001b[0m\u001b[0;34m.\u001b[0m\u001b[0mrun\u001b[0m\u001b[0;34m(\u001b[0m\u001b[0mindices\u001b[0m\u001b[0;34m,\u001b[0m \u001b[0mfeed_dict\u001b[0m\u001b[0;34m=\u001b[0m\u001b[0;34m{\u001b[0m\u001b[0mfeature\u001b[0m\u001b[0;34m:\u001b[0m \u001b[0mnp\u001b[0m\u001b[0;34m.\u001b[0m\u001b[0mexpand_dims\u001b[0m\u001b[0;34m(\u001b[0m\u001b[0mx\u001b[0m\u001b[0;34m,\u001b[0m \u001b[0maxis\u001b[0m\u001b[0;34m=\u001b[0m\u001b[0;36m0\u001b[0m\u001b[0;34m)\u001b[0m\u001b[0;34m,\u001b[0m \u001b[0mkeep_prob\u001b[0m\u001b[0;34m:\u001b[0m \u001b[0;36m1\u001b[0m\u001b[0;34m}\u001b[0m\u001b[0;34m)\u001b[0m\u001b[0;34m,\u001b[0m \u001b[0maxis\u001b[0m\u001b[0;34m=\u001b[0m\u001b[0;36m0\u001b[0m\u001b[0;34m)\u001b[0m\u001b[0;34m\u001b[0m\u001b[0m\n\u001b[0m\u001b[1;32m     29\u001b[0m             \u001b[0mtemp_dict\u001b[0m\u001b[0;34m[\u001b[0m\u001b[0;34m'image_id'\u001b[0m\u001b[0;34m]\u001b[0m \u001b[0;34m=\u001b[0m \u001b[0mtest_image\u001b[0m\u001b[0;34m\u001b[0m\u001b[0m\n\u001b[1;32m     30\u001b[0m             \u001b[0mtemp_dict\u001b[0m\u001b[0;34m[\u001b[0m\u001b[0;34m'label_id'\u001b[0m\u001b[0;34m]\u001b[0m \u001b[0;34m=\u001b[0m \u001b[0mpredictions\u001b[0m\u001b[0;34m.\u001b[0m\u001b[0mtolist\u001b[0m\u001b[0;34m(\u001b[0m\u001b[0;34m)\u001b[0m\u001b[0;34m\u001b[0m\u001b[0m\n",
      "\u001b[0;32m/usr/local/lib/python2.7/dist-packages/tensorflow/python/client/session.pyc\u001b[0m in \u001b[0;36mrun\u001b[0;34m(self, fetches, feed_dict, options, run_metadata)\u001b[0m\n\u001b[1;32m    893\u001b[0m     \u001b[0;32mtry\u001b[0m\u001b[0;34m:\u001b[0m\u001b[0;34m\u001b[0m\u001b[0m\n\u001b[1;32m    894\u001b[0m       result = self._run(None, fetches, feed_dict, options_ptr,\n\u001b[0;32m--> 895\u001b[0;31m                          run_metadata_ptr)\n\u001b[0m\u001b[1;32m    896\u001b[0m       \u001b[0;32mif\u001b[0m \u001b[0mrun_metadata\u001b[0m\u001b[0;34m:\u001b[0m\u001b[0;34m\u001b[0m\u001b[0m\n\u001b[1;32m    897\u001b[0m         \u001b[0mproto_data\u001b[0m \u001b[0;34m=\u001b[0m \u001b[0mtf_session\u001b[0m\u001b[0;34m.\u001b[0m\u001b[0mTF_GetBuffer\u001b[0m\u001b[0;34m(\u001b[0m\u001b[0mrun_metadata_ptr\u001b[0m\u001b[0;34m)\u001b[0m\u001b[0;34m\u001b[0m\u001b[0m\n",
      "\u001b[0;32m/usr/local/lib/python2.7/dist-packages/tensorflow/python/client/session.pyc\u001b[0m in \u001b[0;36m_run\u001b[0;34m(self, handle, fetches, feed_dict, options, run_metadata)\u001b[0m\n\u001b[1;32m   1122\u001b[0m     \u001b[0;32mif\u001b[0m \u001b[0mfinal_fetches\u001b[0m \u001b[0;32mor\u001b[0m \u001b[0mfinal_targets\u001b[0m \u001b[0;32mor\u001b[0m \u001b[0;34m(\u001b[0m\u001b[0mhandle\u001b[0m \u001b[0;32mand\u001b[0m \u001b[0mfeed_dict_tensor\u001b[0m\u001b[0;34m)\u001b[0m\u001b[0;34m:\u001b[0m\u001b[0;34m\u001b[0m\u001b[0m\n\u001b[1;32m   1123\u001b[0m       results = self._do_run(handle, final_targets, final_fetches,\n\u001b[0;32m-> 1124\u001b[0;31m                              feed_dict_tensor, options, run_metadata)\n\u001b[0m\u001b[1;32m   1125\u001b[0m     \u001b[0;32melse\u001b[0m\u001b[0;34m:\u001b[0m\u001b[0;34m\u001b[0m\u001b[0m\n\u001b[1;32m   1126\u001b[0m       \u001b[0mresults\u001b[0m \u001b[0;34m=\u001b[0m \u001b[0;34m[\u001b[0m\u001b[0;34m]\u001b[0m\u001b[0;34m\u001b[0m\u001b[0m\n",
      "\u001b[0;32m/usr/local/lib/python2.7/dist-packages/tensorflow/python/client/session.pyc\u001b[0m in \u001b[0;36m_do_run\u001b[0;34m(self, handle, target_list, fetch_list, feed_dict, options, run_metadata)\u001b[0m\n\u001b[1;32m   1319\u001b[0m     \u001b[0;32mif\u001b[0m \u001b[0mhandle\u001b[0m \u001b[0;32mis\u001b[0m \u001b[0mNone\u001b[0m\u001b[0;34m:\u001b[0m\u001b[0;34m\u001b[0m\u001b[0m\n\u001b[1;32m   1320\u001b[0m       return self._do_call(_run_fn, self._session, feeds, fetches, targets,\n\u001b[0;32m-> 1321\u001b[0;31m                            options, run_metadata)\n\u001b[0m\u001b[1;32m   1322\u001b[0m     \u001b[0;32melse\u001b[0m\u001b[0;34m:\u001b[0m\u001b[0;34m\u001b[0m\u001b[0m\n\u001b[1;32m   1323\u001b[0m       \u001b[0;32mreturn\u001b[0m \u001b[0mself\u001b[0m\u001b[0;34m.\u001b[0m\u001b[0m_do_call\u001b[0m\u001b[0;34m(\u001b[0m\u001b[0m_prun_fn\u001b[0m\u001b[0;34m,\u001b[0m \u001b[0mself\u001b[0m\u001b[0;34m.\u001b[0m\u001b[0m_session\u001b[0m\u001b[0;34m,\u001b[0m \u001b[0mhandle\u001b[0m\u001b[0;34m,\u001b[0m \u001b[0mfeeds\u001b[0m\u001b[0;34m,\u001b[0m \u001b[0mfetches\u001b[0m\u001b[0;34m)\u001b[0m\u001b[0;34m\u001b[0m\u001b[0m\n",
      "\u001b[0;32m/usr/local/lib/python2.7/dist-packages/tensorflow/python/client/session.pyc\u001b[0m in \u001b[0;36m_do_call\u001b[0;34m(self, fn, *args)\u001b[0m\n\u001b[1;32m   1338\u001b[0m         \u001b[0;32mexcept\u001b[0m \u001b[0mKeyError\u001b[0m\u001b[0;34m:\u001b[0m\u001b[0;34m\u001b[0m\u001b[0m\n\u001b[1;32m   1339\u001b[0m           \u001b[0;32mpass\u001b[0m\u001b[0;34m\u001b[0m\u001b[0m\n\u001b[0;32m-> 1340\u001b[0;31m       \u001b[0;32mraise\u001b[0m \u001b[0mtype\u001b[0m\u001b[0;34m(\u001b[0m\u001b[0me\u001b[0m\u001b[0;34m)\u001b[0m\u001b[0;34m(\u001b[0m\u001b[0mnode_def\u001b[0m\u001b[0;34m,\u001b[0m \u001b[0mop\u001b[0m\u001b[0;34m,\u001b[0m \u001b[0mmessage\u001b[0m\u001b[0;34m)\u001b[0m\u001b[0;34m\u001b[0m\u001b[0m\n\u001b[0m\u001b[1;32m   1341\u001b[0m \u001b[0;34m\u001b[0m\u001b[0m\n\u001b[1;32m   1342\u001b[0m   \u001b[0;32mdef\u001b[0m \u001b[0m_extend_graph\u001b[0m\u001b[0;34m(\u001b[0m\u001b[0mself\u001b[0m\u001b[0;34m)\u001b[0m\u001b[0;34m:\u001b[0m\u001b[0;34m\u001b[0m\u001b[0m\n",
      "\u001b[0;31mInvalidArgumentError\u001b[0m: You must feed a value for placeholder tensor 'is_training' with dtype bool\n\t [[Node: is_training = Placeholder[dtype=DT_BOOL, shape=<unknown>, _device=\"/job:localhost/replica:0/task:0/cpu:0\"]()]]\n\nCaused by op u'is_training', defined at:\n  File \"/usr/lib/python2.7/runpy.py\", line 174, in _run_module_as_main\n    \"__main__\", fname, loader, pkg_name)\n  File \"/usr/lib/python2.7/runpy.py\", line 72, in _run_code\n    exec code in run_globals\n  File \"/usr/local/lib/python2.7/dist-packages/ipykernel_launcher.py\", line 16, in <module>\n    app.launch_new_instance()\n  File \"/usr/local/lib/python2.7/dist-packages/traitlets/config/application.py\", line 658, in launch_instance\n    app.start()\n  File \"/usr/local/lib/python2.7/dist-packages/ipykernel/kernelapp.py\", line 477, in start\n    ioloop.IOLoop.instance().start()\n  File \"/usr/local/lib/python2.7/dist-packages/zmq/eventloop/ioloop.py\", line 177, in start\n    super(ZMQIOLoop, self).start()\n  File \"/usr/local/lib/python2.7/dist-packages/tornado/ioloop.py\", line 888, in start\n    handler_func(fd_obj, events)\n  File \"/usr/local/lib/python2.7/dist-packages/tornado/stack_context.py\", line 277, in null_wrapper\n    return fn(*args, **kwargs)\n  File \"/usr/local/lib/python2.7/dist-packages/zmq/eventloop/zmqstream.py\", line 440, in _handle_events\n    self._handle_recv()\n  File \"/usr/local/lib/python2.7/dist-packages/zmq/eventloop/zmqstream.py\", line 472, in _handle_recv\n    self._run_callback(callback, msg)\n  File \"/usr/local/lib/python2.7/dist-packages/zmq/eventloop/zmqstream.py\", line 414, in _run_callback\n    callback(*args, **kwargs)\n  File \"/usr/local/lib/python2.7/dist-packages/tornado/stack_context.py\", line 277, in null_wrapper\n    return fn(*args, **kwargs)\n  File \"/usr/local/lib/python2.7/dist-packages/ipykernel/kernelbase.py\", line 283, in dispatcher\n    return self.dispatch_shell(stream, msg)\n  File \"/usr/local/lib/python2.7/dist-packages/ipykernel/kernelbase.py\", line 235, in dispatch_shell\n    handler(stream, idents, msg)\n  File \"/usr/local/lib/python2.7/dist-packages/ipykernel/kernelbase.py\", line 399, in execute_request\n    user_expressions, allow_stdin)\n  File \"/usr/local/lib/python2.7/dist-packages/ipykernel/ipkernel.py\", line 196, in do_execute\n    res = shell.run_cell(code, store_history=store_history, silent=silent)\n  File \"/usr/local/lib/python2.7/dist-packages/ipykernel/zmqshell.py\", line 533, in run_cell\n    return super(ZMQInteractiveShell, self).run_cell(*args, **kwargs)\n  File \"/usr/local/lib/python2.7/dist-packages/IPython/core/interactiveshell.py\", line 2718, in run_cell\n    interactivity=interactivity, compiler=compiler, result=result)\n  File \"/usr/local/lib/python2.7/dist-packages/IPython/core/interactiveshell.py\", line 2828, in run_ast_nodes\n    if self.run_code(code, result):\n  File \"/usr/local/lib/python2.7/dist-packages/IPython/core/interactiveshell.py\", line 2882, in run_code\n    exec(code_obj, self.user_global_ns, self.user_ns)\n  File \"<ipython-input-9-05ebeb6c16b6>\", line 7, in <module>\n    test(val_feature_path, val_label_path, checkpoint_dir, num_class, image_size)\n  File \"<ipython-input-8-284556a43eba>\", line 9, in test\n    is_training = tf.placeholder(tf.bool, name='is_training')\n  File \"/usr/local/lib/python2.7/dist-packages/tensorflow/python/ops/array_ops.py\", line 1548, in placeholder\n    return gen_array_ops._placeholder(dtype=dtype, shape=shape, name=name)\n  File \"/usr/local/lib/python2.7/dist-packages/tensorflow/python/ops/gen_array_ops.py\", line 2094, in _placeholder\n    name=name)\n  File \"/usr/local/lib/python2.7/dist-packages/tensorflow/python/framework/op_def_library.py\", line 767, in apply_op\n    op_def=op_def)\n  File \"/usr/local/lib/python2.7/dist-packages/tensorflow/python/framework/ops.py\", line 2630, in create_op\n    original_op=self._default_original_op, op_def=op_def)\n  File \"/usr/local/lib/python2.7/dist-packages/tensorflow/python/framework/ops.py\", line 1204, in __init__\n    self._traceback = self._graph._extract_stack()  # pylint: disable=protected-access\n\nInvalidArgumentError (see above for traceback): You must feed a value for placeholder tensor 'is_training' with dtype bool\n\t [[Node: is_training = Placeholder[dtype=DT_BOOL, shape=<unknown>, _device=\"/job:localhost/replica:0/task:0/cpu:0\"]()]]\n"
     ]
    }
   ],
   "source": [
    "val_feature_path = r'/media/bitlord/document/ai_challenger/scene_cal/data/ai_challenger_scene_test_a_20170922/scene_test_a_images_20170922'\n",
    "val_label_path = r'/media/bitlord/document/ai_challenger/scene_cal/data/ai_challenger_scene_validation_20170908/scene_validation_annotations_20170908.json'\n",
    "checkpoint_dir = r'./checkpoint/'\n",
    "num_class = 80\n",
    "image_size = 64\n",
    "\n",
    "test(val_feature_path, val_label_path, checkpoint_dir, num_class, image_size)"
   ]
  },
  {
   "cell_type": "code",
   "execution_count": null,
   "metadata": {},
   "outputs": [],
   "source": [
    "train_feature_path = r'/media/bitlord/document/ai_challenger/scene_cal/data/ai_challenger_scene_train_20170904/scene_train_images_20170904'\n",
    "train_label_path = r'/media/bitlord/document/ai_challenger/scene_cal/data/ai_challenger_scene_train_20170904/scene_train_annotations_20170904.json'\n",
    "checkpoint_path = './checkpoint/'\n",
    "checkfile = './checkpoint/model.ckpt'"
   ]
  }
 ],
 "metadata": {
  "kernelspec": {
   "display_name": "Python 2",
   "language": "python",
   "name": "python2"
  },
  "language_info": {
   "codemirror_mode": {
    "name": "ipython",
    "version": 2
   },
   "file_extension": ".py",
   "mimetype": "text/x-python",
   "name": "python",
   "nbconvert_exporter": "python",
   "pygments_lexer": "ipython2",
   "version": "2.7.13"
  }
 },
 "nbformat": 4,
 "nbformat_minor": 2
}
